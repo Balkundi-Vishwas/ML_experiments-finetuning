{
 "cells": [
  {
   "cell_type": "code",
   "execution_count": 1,
   "metadata": {},
   "outputs": [],
   "source": [
    "import numpy as np\n",
    "from tensorflow.keras.models import Sequential\n",
    "from tensorflow.keras.layers import LSTM, Dense, Dropout\n",
    "from tensorflow.keras.datasets import mnist\n",
    "from tensorflow.keras.utils import to_categorical\n"
   ]
  },
  {
   "cell_type": "code",
   "execution_count": 2,
   "metadata": {},
   "outputs": [
    {
     "name": "stdout",
     "output_type": "stream",
     "text": [
      "Downloading data from https://storage.googleapis.com/tensorflow/tf-keras-datasets/mnist.npz\n",
      "\u001b[1m11490434/11490434\u001b[0m \u001b[32m━━━━━━━━━━━━━━━━━━━━\u001b[0m\u001b[37m\u001b[0m \u001b[1m20s\u001b[0m 2us/step\n"
     ]
    }
   ],
   "source": [
    "(x_train, y_train), (x_test, y_test) = mnist.load_data()"
   ]
  },
  {
   "cell_type": "code",
   "execution_count": 8,
   "metadata": {},
   "outputs": [],
   "source": [
    "x_train = x_train.astype('float32') / 255.0\n",
    "x_test = x_test.astype('float32') / 255.0\n",
    "y_train = to_categorical(y_train, 10)\n",
    "y_test = to_categorical(y_test, 10)"
   ]
  },
  {
   "cell_type": "code",
   "execution_count": 10,
   "metadata": {},
   "outputs": [
    {
     "data": {
      "text/plain": [
       "(60000, 28, 28)"
      ]
     },
     "execution_count": 10,
     "metadata": {},
     "output_type": "execute_result"
    }
   ],
   "source": [
    "x_train.shape"
   ]
  },
  {
   "cell_type": "code",
   "execution_count": 7,
   "metadata": {},
   "outputs": [],
   "source": [
    "time_steps, features = x_train.shape[1], x_train.shape[2]\n",
    "x_train = x_train.reshape(x_train.shape[0], time_steps, features)\n",
    "x_test = x_test.reshape(x_test.shape[0], time_steps, features)"
   ]
  },
  {
   "cell_type": "code",
   "execution_count": null,
   "metadata": {},
   "outputs": [],
   "source": []
  },
  {
   "cell_type": "code",
   "execution_count": null,
   "metadata": {},
   "outputs": [],
   "source": []
  },
  {
   "cell_type": "code",
   "execution_count": 3,
   "metadata": {},
   "outputs": [],
   "source": [
    "data = np.array([10, 20, 30, 40, 50, 60, 70, 80, 90, 100])\n",
    "sequence_length = 3  # Define the sequence length (how many time steps to consider)\n",
    "\n",
    "# Create sequences\n",
    "sequences = []\n",
    "target = []\n",
    "for i in range(len(data) - sequence_length):\n",
    "    sequences.append(data[i:i + sequence_length])\n",
    "    target.append(data[i + sequence_length])"
   ]
  },
  {
   "cell_type": "code",
   "execution_count": 4,
   "metadata": {},
   "outputs": [
    {
     "data": {
      "text/plain": [
       "[array([10, 20, 30]),\n",
       " array([20, 30, 40]),\n",
       " array([30, 40, 50]),\n",
       " array([40, 50, 60]),\n",
       " array([50, 60, 70]),\n",
       " array([60, 70, 80]),\n",
       " array([70, 80, 90])]"
      ]
     },
     "execution_count": 4,
     "metadata": {},
     "output_type": "execute_result"
    }
   ],
   "source": [
    "sequences"
   ]
  },
  {
   "cell_type": "code",
   "execution_count": 5,
   "metadata": {},
   "outputs": [
    {
     "data": {
      "text/plain": [
       "[np.int64(40),\n",
       " np.int64(50),\n",
       " np.int64(60),\n",
       " np.int64(70),\n",
       " np.int64(80),\n",
       " np.int64(90),\n",
       " np.int64(100)]"
      ]
     },
     "execution_count": 5,
     "metadata": {},
     "output_type": "execute_result"
    }
   ],
   "source": [
    "target"
   ]
  },
  {
   "cell_type": "code",
   "execution_count": null,
   "metadata": {},
   "outputs": [],
   "source": [
    "x = [[[-0.04588735,  0.04821293,  0.02707684 , 0.03532112],\n",
    "  [-0.01999545, -0.04968796, -0.02757902 , 0.00817414],\n",
    "  [ 0.02031758, -0.01175624,  0.01233627,  0.01491675],\n",
    "  [-0.01573961, -0.03532983, -0.02621815 ,-0.04042824],\n",
    "  [ 0.02531271, -0.01728104 ,-0.00472096, -0.04027735],\n",
    "  [-0.04076502, -0.04600718, -0.03657167, -0.04884919],\n",
    "  [-0.00248233, -0.04897319, -0.01218885,  0.02799994],\n",
    "  [-0.00248233 ,-0.04897319, -0.01218885 , 0.02799994]],\n",
    "\n",
    " [[-0.04588735,  0.04821293,  0.02707684, , 0.03532112],\n",
    "  [-0.02176586 ,-0.03552277,  0.0177248,  -0.01874503],\n",
    "  [ 0.04428699 , 0.03702401, -0.038103 ,   0.01531515],\n",
    "  [ 0.01737973 ,-0.01626869, -0.03483053 , 0.00736971],\n",
    "  [-0.02679001 ,-0.00531564,  0.02538358 ,-0.00660758],\n",
    "  [-0.00248233, -0.04897319 ,-0.01218885,  0.02799994],\n",
    "  [-0.00248233 ,-0.04897319 ,-0.01218885,  0.02799994],\n",
    "  [-0.00248233, -0.04897319, -0.01218885,  0.02799994]],\n",
    "\n",
    " [[-0.04588735,  0.04821293,  0.02707684,  0.03532112],\n",
    "  [-0.01086154 ,-0.00346394,  0.01886177 ,-0.02077385],\n",
    "  [-0.04637978,  0.01801422,  0.00417098 ,-0.0366376 ],\n",
    "  [ 0.03626612, -0.03860765,  0.00117645, -0.00586362],\n",
    "  [-0.02679001 ,-0.00531564,  0.02538358, -0.00660758],\n",
    "  [ 0.00779638, -0.04695494 ,-0.02802014 ,-0.01979377],\n",
    "  [-0.03570173,  0.04125914 ,-0.04764031 ,-0.03406505],\n",
    "  [ 0.00056888 , 0.01333905 ,-0.04374031 , 0.03733016]]]"
   ]
  }
 ],
 "metadata": {
  "kernelspec": {
   "display_name": "env_ml",
   "language": "python",
   "name": "python3"
  },
  "language_info": {
   "codemirror_mode": {
    "name": "ipython",
    "version": 3
   },
   "file_extension": ".py",
   "mimetype": "text/x-python",
   "name": "python",
   "nbconvert_exporter": "python",
   "pygments_lexer": "ipython3",
   "version": "3.12.8"
  }
 },
 "nbformat": 4,
 "nbformat_minor": 2
}
