{
 "cells": [
  {
   "cell_type": "code",
   "execution_count": null,
   "metadata": {},
   "outputs": [],
   "source": [
    "import numpy as np\n",
    "import pandas as pd \n",
    "import os\n",
    "\n",
    "geo = pd.read_csv(r\"c:\\Users\\vishwas.balkundi\\Downloads\\brazilian_ecommerce\\olist_geolocation_dataset.csv\", dtype={'geolocation_zip_code_prefix': str})\n",
    "\n",
    "# Gets the first three and four first digits of zip codes, we will explore this further to understand how zip codes works\n",
    "geo.head(3)"
   ]
  },
  {
   "cell_type": "code",
   "execution_count": null,
   "metadata": {},
   "outputs": [],
   "source": [
    "geo['geolocation_zip_code_prefix_1_digits'] = geo['geolocation_zip_code_prefix'].str[0:1]\n",
    "geo['geolocation_zip_code_prefix_2_digits'] = geo['geolocation_zip_code_prefix'].str[0:2]\n",
    "geo['geolocation_zip_code_prefix_3_digits'] = geo['geolocation_zip_code_prefix'].str[0:3]\n",
    "geo['geolocation_zip_code_prefix_4_digits'] = geo['geolocation_zip_code_prefix'].str[0:4]"
   ]
  },
  {
   "cell_type": "code",
   "execution_count": null,
   "metadata": {},
   "outputs": [],
   "source": [
    "geo"
   ]
  },
  {
   "cell_type": "code",
   "execution_count": null,
   "metadata": {},
   "outputs": [],
   "source": [
    "geo['geolocation_zip_code_prefix'].value_counts()"
   ]
  },
  {
   "cell_type": "code",
   "execution_count": null,
   "metadata": {},
   "outputs": [],
   "source": [
    "len(geo['geolocation_zip_code_prefix'].unique())"
   ]
  },
  {
   "cell_type": "code",
   "execution_count": null,
   "metadata": {},
   "outputs": [],
   "source": [
    "geo['geolocation_zip_code_prefix'].value_counts().to_frame().describe()"
   ]
  },
  {
   "cell_type": "code",
   "execution_count": null,
   "metadata": {},
   "outputs": [],
   "source": [
    "geo = geo[geo.geolocation_lat <= 5.27438888]\n",
    "#it’s most Western spot is at 73 deg, 58′ 58.19″W Long.\n",
    "geo = geo[geo.geolocation_lng >= -73.98283055]\n",
    "#It’s most southern spot is at 33 deg, 45′ 04.21″ S Latitude.\n",
    "geo = geo[geo.geolocation_lat >= -33.75116944]\n",
    "#It’s most Eastern spot is 34 deg, 47′ 35.33″ W Long.\n",
    "geo = geo[geo.geolocation_lng <=  -34.79314722]\n"
   ]
  },
  {
   "cell_type": "code",
   "execution_count": null,
   "metadata": {},
   "outputs": [],
   "source": [
    "geo = geo[geo.apply(lambda row: 5.27438888 >= row['geolocation_lat'] >= -33.75116944 and -73.98283055 <= row['geolocation_lng'] <= -34.79314722, axis=1)]\n"
   ]
  },
  {
   "cell_type": "code",
   "execution_count": null,
   "metadata": {},
   "outputs": [],
   "source": [
    "from datashader.utils import lnglat_to_meters as webm\n",
    "x, y = webm(geo.geolocation_lng, geo.geolocation_lat)\n",
    "geo['x'] = pd.Series(x)\n",
    "geo['y'] = pd.Series(y)"
   ]
  },
  {
   "cell_type": "code",
   "execution_count": null,
   "metadata": {},
   "outputs": [],
   "source": [
    "x"
   ]
  },
  {
   "cell_type": "code",
   "execution_count": null,
   "metadata": {},
   "outputs": [],
   "source": [
    "geo.head(3)"
   ]
  },
  {
   "cell_type": "code",
   "execution_count": null,
   "metadata": {},
   "outputs": [],
   "source": [
    "geo['geolocation_zip_code_prefix'] = geo['geolocation_zip_code_prefix'].astype(int)\n",
    "geo['geolocation_zip_code_prefix_1_digits'] = geo['geolocation_zip_code_prefix_1_digits'].astype(int)\n",
    "geo['geolocation_zip_code_prefix_2_digits'] = geo['geolocation_zip_code_prefix_2_digits'].astype(int)\n",
    "geo['geolocation_zip_code_prefix_3_digits'] = geo['geolocation_zip_code_prefix_3_digits'].astype(int)\n",
    "geo['geolocation_zip_code_prefix_4_digits'] = geo['geolocation_zip_code_prefix_4_digits'].astype(int)"
   ]
  },
  {
   "cell_type": "code",
   "execution_count": null,
   "metadata": {},
   "outputs": [],
   "source": [
    "brazil = geo\n",
    "agg_name = 'geolocation_zip_code_prefix'\n",
    "brazil[agg_name].describe().to_frame()"
   ]
  },
  {
   "cell_type": "code",
   "execution_count": null,
   "metadata": {},
   "outputs": [],
   "source": [
    "import holoviews as hv\n",
    "import geoviews as gv\n",
    "import datashader as ds\n",
    "from colorcet import fire, rainbow, bgy, bjy, bkr, kb, kr\n",
    "from datashader.colors import colormap_select, Greys9\n",
    "from holoviews.streams import RangeXY\n",
    "from holoviews.operation.datashader import datashade, dynspread, rasterize\n",
    "from bokeh.io import push_notebook, show, output_notebook\n",
    "output_notebook()\n",
    "hv.extension('bokeh')\n",
    "\n",
    "%opts Overlay [width=800 height=600 toolbar='above' xaxis=None yaxis=None]\n",
    "%opts QuadMesh [tools=['hover'] colorbar=True] (alpha=0 hover_alpha=0.2)\n",
    "\n",
    "T = 0.05\n",
    "PX = 1\n",
    "\n",
    "def plot_map(data, label, agg_data, agg_name, cmap):\n",
    "    url=\"http://server.arcgisonline.com/ArcGIS/rest/services/Canvas/World_Dark_Gray_Base/MapServer/tile/{Z}/{Y}/{X}.png\"\n",
    "    geomap = gv.WMTS(url)\n",
    "    points = hv.Points(gv.Dataset(data, kdims=['x', 'y'], vdims=[agg_name]))\n",
    "    agg = datashade(points, element_type=gv.Image, aggregator=agg_data, cmap=cmap)\n",
    "    zip_codes = dynspread(agg, threshold=T, max_px=PX)\n",
    "    hover = hv.util.Dynamic(rasterize(points, aggregator=agg_data, width=50, height=25, streams=[RangeXY]), operation=hv.QuadMesh)\n",
    "    hover = hover.options(cmap=cmap)\n",
    "    img = geomap * zip_codes * hover\n",
    "    img = img.relabel(label)\n",
    "    return img"
   ]
  },
  {
   "cell_type": "code",
   "execution_count": null,
   "metadata": {},
   "outputs": [],
   "source": [
    "plot_map(brazil, 'Zip Codes in Brazil', ds.min(agg_name), agg_name, cmap=rainbow)"
   ]
  },
  {
   "cell_type": "code",
   "execution_count": null,
   "metadata": {},
   "outputs": [],
   "source": [
    "print(df)"
   ]
  },
  {
   "cell_type": "code",
   "execution_count": null,
   "metadata": {},
   "outputs": [],
   "source": [
    "def filter_data(level, name):\n",
    "    df = geo[geo[level] == name]\n",
    "    #remove outliers\n",
    "    df = df[(df.x <= df.x.quantile(0.999)) & (df.x >= df.x.quantile(0.001))]\n",
    "    df = df[(df.y <= df.y.quantile(0.999)) & (df.y >= df.y.quantile(0.001))]\n",
    "    return df"
   ]
  }
 ],
 "metadata": {
  "kernelspec": {
   "display_name": "myenv2",
   "language": "python",
   "name": "python3"
  },
  "language_info": {
   "codemirror_mode": {
    "name": "ipython",
    "version": 3
   },
   "file_extension": ".py",
   "mimetype": "text/x-python",
   "name": "python",
   "nbconvert_exporter": "python",
   "pygments_lexer": "ipython3",
   "version": "3.12.5"
  }
 },
 "nbformat": 4,
 "nbformat_minor": 2
}
